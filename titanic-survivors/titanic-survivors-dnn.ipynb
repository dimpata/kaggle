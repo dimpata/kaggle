{
 "cells": [
  {
   "cell_type": "markdown",
   "metadata": {},
   "source": [
    "# Titanic Survivors (NN)"
   ]
  },
  {
   "cell_type": "code",
   "execution_count": 1,
   "metadata": {},
   "outputs": [],
   "source": [
    "%reload_ext autoreload\n",
    "%autoreload 2\n",
    "%matplotlib inline"
   ]
  },
  {
   "cell_type": "code",
   "execution_count": 2,
   "metadata": {},
   "outputs": [],
   "source": [
    "from fastai import *\n",
    "from fastai.tabular import *"
   ]
  },
  {
   "cell_type": "code",
   "execution_count": 3,
   "metadata": {},
   "outputs": [],
   "source": [
    "path = f'./data'"
   ]
  },
  {
   "cell_type": "markdown",
   "metadata": {},
   "source": [
    "## DataFrames and Feature Engineering\n",
    "\n",
    "Basic feature engineering taken from the kaggle examples provided"
   ]
  },
  {
   "cell_type": "code",
   "execution_count": 4,
   "metadata": {},
   "outputs": [],
   "source": [
    "def substrings_in_string(big_string, substrings):\n",
    "    for substring in substrings:\n",
    "        if str.find(big_string, substring) != -1:\n",
    "            return substring\n",
    "    return np.nan\n",
    "\n",
    "\n",
    "def replace_titles(x):\n",
    "    title=x['Title']\n",
    "    if title in ['Don', 'Major', 'Capt', 'Jonkheer', 'Rev', 'Col']:\n",
    "        return 'Mr'\n",
    "    elif title in ['Countess', 'Mme']:\n",
    "        return 'Mrs'\n",
    "    elif title in ['Mlle', 'Ms']:\n",
    "        return 'Miss'\n",
    "    elif title =='Dr':\n",
    "        if x['Sex']=='Male':\n",
    "            return 'Mr'\n",
    "        else:\n",
    "            return 'Mrs'\n",
    "    else:\n",
    "        return title\n",
    "    \n",
    "\n",
    "title_list=['Mrs', 'Mr', 'Master', 'Miss', 'Major', 'Rev',\n",
    "                    'Dr', 'Ms', 'Mlle','Col', 'Capt', 'Mme', 'Countess',\n",
    "                    'Don', 'Jonkheer']"
   ]
  },
  {
   "cell_type": "code",
   "execution_count": 5,
   "metadata": {},
   "outputs": [],
   "source": [
    "df = pd.read_csv(f'{path}/train.csv')\n",
    " \n",
    "#replacing all titles with mr, mrs, miss, master\n",
    "df['Title']=df['Name'].map(lambda x: substrings_in_string(x, title_list))\n",
    "df['Title']=df.apply(replace_titles, axis=1)\n",
    "\n",
    "#Turning cabin number into Deck\n",
    "cabin_list = ['A', 'B', 'C', 'D', 'E', 'F', 'T', 'G', 'Unknown']\n",
    "df['Deck']=df['Cabin'].map(lambda x: substrings_in_string(str(x), cabin_list))"
   ]
  },
  {
   "cell_type": "code",
   "execution_count": 6,
   "metadata": {},
   "outputs": [],
   "source": [
    "test_df = pd.read_csv(f'{path}/test.csv')"
   ]
  },
  {
   "cell_type": "markdown",
   "metadata": {},
   "source": [
    "## Data Bunch"
   ]
  },
  {
   "cell_type": "code",
   "execution_count": 7,
   "metadata": {},
   "outputs": [],
   "source": [
    "dep_var = 'Survived'\n",
    "cat_names = ['Pclass', 'Embarked', 'Sex', 'Title', 'Deck']\n",
    "cont_names = ['Age', 'SibSp', 'Parch', 'Fare']\n",
    "procs = [FillMissing, Categorify, Normalize]"
   ]
  },
  {
   "cell_type": "code",
   "execution_count": 8,
   "metadata": {},
   "outputs": [],
   "source": [
    "# todo: still working through fixing NaN values in test set\n",
    "#test = TabularList.from_df(test_df, path=path, cat_names=cat_names, cont_names=cont_names, procs=[FillMissing])"
   ]
  },
  {
   "cell_type": "code",
   "execution_count": 9,
   "metadata": {},
   "outputs": [],
   "source": [
    "data = (TabularList.from_df(df, path=path, cat_names=cat_names, cont_names = cont_names, procs=procs)\n",
    "                   .split_by_idx(list(range(800, 891)))\n",
    "                   .label_from_df(cols=dep_var)\n",
    "                   #.add_test(test)\n",
    "                   .databunch())"
   ]
  },
  {
   "cell_type": "code",
   "execution_count": 10,
   "metadata": {},
   "outputs": [
    {
     "data": {
      "text/html": [
       "<table>  <col width='10%'>  <col width='10%'>  <col width='10%'>  <col width='10%'>  <col width='10%'>  <col width='10%'>  <col width='10%'>  <col width='10%'>  <col width='10%'>  <col width='10%'>  <col width='10%'>  <tr>\n",
       "    <th>Pclass</th>\n",
       "    <th>Embarked</th>\n",
       "    <th>Sex</th>\n",
       "    <th>Title</th>\n",
       "    <th>Deck</th>\n",
       "    <th>Age_na</th>\n",
       "    <th>Age</th>\n",
       "    <th>SibSp</th>\n",
       "    <th>Parch</th>\n",
       "    <th>Fare</th>\n",
       "    <th>target</th>\n",
       "  </tr>\n",
       "  <tr>\n",
       "    <th>3</th>\n",
       "    <th>S</th>\n",
       "    <th>male</th>\n",
       "    <th>Mr</th>\n",
       "    <th>#na#</th>\n",
       "    <th>False</th>\n",
       "    <th>-0.8070</th>\n",
       "    <th>-0.4878</th>\n",
       "    <th>-0.4663</th>\n",
       "    <th>-0.4829</th>\n",
       "    <th>0</th>\n",
       "  </tr>\n",
       "  <tr>\n",
       "    <th>3</th>\n",
       "    <th>Q</th>\n",
       "    <th>male</th>\n",
       "    <th>Mr</th>\n",
       "    <th>#na#</th>\n",
       "    <th>True</th>\n",
       "    <th>-0.1146</th>\n",
       "    <th>0.4525</th>\n",
       "    <th>-0.4663</th>\n",
       "    <th>-0.3404</th>\n",
       "    <th>0</th>\n",
       "  </tr>\n",
       "  <tr>\n",
       "    <th>3</th>\n",
       "    <th>S</th>\n",
       "    <th>female</th>\n",
       "    <th>Mrs</th>\n",
       "    <th>#na#</th>\n",
       "    <th>False</th>\n",
       "    <th>0.8855</th>\n",
       "    <th>-0.4878</th>\n",
       "    <th>5.7722</th>\n",
       "    <th>0.1290</th>\n",
       "    <th>0</th>\n",
       "  </tr>\n",
       "  <tr>\n",
       "    <th>3</th>\n",
       "    <th>Q</th>\n",
       "    <th>male</th>\n",
       "    <th>Mr</th>\n",
       "    <th>#na#</th>\n",
       "    <th>True</th>\n",
       "    <th>-0.1146</th>\n",
       "    <th>-0.4878</th>\n",
       "    <th>-0.4663</th>\n",
       "    <th>-0.4911</th>\n",
       "    <th>0</th>\n",
       "  </tr>\n",
       "  <tr>\n",
       "    <th>2</th>\n",
       "    <th>S</th>\n",
       "    <th>female</th>\n",
       "    <th>Miss</th>\n",
       "    <th>#na#</th>\n",
       "    <th>False</th>\n",
       "    <th>-1.9610</th>\n",
       "    <th>0.4525</th>\n",
       "    <th>0.7814</th>\n",
       "    <th>-0.1948</th>\n",
       "    <th>1</th>\n",
       "  </tr>\n",
       "  <tr>\n",
       "    <th>2</th>\n",
       "    <th>C</th>\n",
       "    <th>male</th>\n",
       "    <th>Mr</th>\n",
       "    <th>#na#</th>\n",
       "    <th>False</th>\n",
       "    <th>-0.4993</th>\n",
       "    <th>-0.4878</th>\n",
       "    <th>-0.4663</th>\n",
       "    <th>-0.3492</th>\n",
       "    <th>0</th>\n",
       "  </tr>\n",
       "  <tr>\n",
       "    <th>2</th>\n",
       "    <th>S</th>\n",
       "    <th>male</th>\n",
       "    <th>Mr</th>\n",
       "    <th>#na#</th>\n",
       "    <th>False</th>\n",
       "    <th>-0.3454</th>\n",
       "    <th>0.4525</th>\n",
       "    <th>-0.4663</th>\n",
       "    <th>-0.1366</th>\n",
       "    <th>0</th>\n",
       "  </tr>\n",
       "  <tr>\n",
       "    <th>3</th>\n",
       "    <th>S</th>\n",
       "    <th>male</th>\n",
       "    <th>Mr</th>\n",
       "    <th>#na#</th>\n",
       "    <th>True</th>\n",
       "    <th>-0.1146</th>\n",
       "    <th>-0.4878</th>\n",
       "    <th>-0.4663</th>\n",
       "    <th>-0.4880</th>\n",
       "    <th>0</th>\n",
       "  </tr>\n",
       "  <tr>\n",
       "    <th>1</th>\n",
       "    <th>S</th>\n",
       "    <th>male</th>\n",
       "    <th>Mr</th>\n",
       "    <th>E</th>\n",
       "    <th>False</th>\n",
       "    <th>1.3471</th>\n",
       "    <th>-0.4878</th>\n",
       "    <th>-0.4663</th>\n",
       "    <th>-0.1446</th>\n",
       "    <th>0</th>\n",
       "  </tr>\n",
       "  <tr>\n",
       "    <th>2</th>\n",
       "    <th>S</th>\n",
       "    <th>female</th>\n",
       "    <th>Mrs</th>\n",
       "    <th>#na#</th>\n",
       "    <th>False</th>\n",
       "    <th>1.1933</th>\n",
       "    <th>-0.4878</th>\n",
       "    <th>-0.4663</th>\n",
       "    <th>-0.3792</th>\n",
       "    <th>1</th>\n",
       "  </tr>\n",
       "</table>\n"
      ],
      "text/plain": [
       "<IPython.core.display.HTML object>"
      ]
     },
     "metadata": {},
     "output_type": "display_data"
    }
   ],
   "source": [
    "data.show_batch(rows=10)"
   ]
  },
  {
   "cell_type": "markdown",
   "metadata": {},
   "source": [
    "## Training and Model Fit"
   ]
  },
  {
   "cell_type": "code",
   "execution_count": 11,
   "metadata": {},
   "outputs": [
    {
     "data": {
      "text/html": [
       "Total time: 03:51 <p><table style='width:300px; margin-bottom:10px'>\n",
       "  <tr>\n",
       "    <th>epoch</th>\n",
       "    <th>train_loss</th>\n",
       "    <th>valid_loss</th>\n",
       "    <th>accuracy</th>\n",
       "  </tr>\n",
       "  <tr>\n",
       "    <th>1</th>\n",
       "    <th>0.640780</th>\n",
       "    <th>0.646061</th>\n",
       "    <th>0.626374</th>\n",
       "  </tr>\n",
       "  <tr>\n",
       "    <th>2</th>\n",
       "    <th>0.553121</th>\n",
       "    <th>0.477035</th>\n",
       "    <th>0.802198</th>\n",
       "  </tr>\n",
       "  <tr>\n",
       "    <th>3</th>\n",
       "    <th>0.500513</th>\n",
       "    <th>0.422233</th>\n",
       "    <th>0.846154</th>\n",
       "  </tr>\n",
       "  <tr>\n",
       "    <th>4</th>\n",
       "    <th>0.468170</th>\n",
       "    <th>0.381163</th>\n",
       "    <th>0.857143</th>\n",
       "  </tr>\n",
       "</table>\n"
      ],
      "text/plain": [
       "<IPython.core.display.HTML object>"
      ]
     },
     "metadata": {},
     "output_type": "display_data"
    }
   ],
   "source": [
    "learn = tabular_learner(data, layers=[200,100], metrics=accuracy)\n",
    "learn.fit_one_cycle(4, 1e-2)"
   ]
  }
 ],
 "metadata": {
  "kernelspec": {
   "display_name": "Python 3",
   "language": "python",
   "name": "python3"
  },
  "language_info": {
   "codemirror_mode": {
    "name": "ipython",
    "version": 3
   },
   "file_extension": ".py",
   "mimetype": "text/x-python",
   "name": "python",
   "nbconvert_exporter": "python",
   "pygments_lexer": "ipython3",
   "version": "3.6.8"
  }
 },
 "nbformat": 4,
 "nbformat_minor": 2
}
